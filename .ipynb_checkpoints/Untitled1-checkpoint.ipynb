{
 "metadata": {
  "name": "",
  "signature": "sha256:62277479e10d5400155913120c8f0b467e688fcde5eeb0288e98391b0426aef9"
 },
 "nbformat": 3,
 "nbformat_minor": 0,
 "worksheets": []
}