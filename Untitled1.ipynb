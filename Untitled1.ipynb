{
 "metadata": {
  "name": "",
  "signature": "sha256:2768fb949747971c13ef5c49fcd326350b636eea16427789bd6e9d1f85dc203e"
 },
 "nbformat": 3,
 "nbformat_minor": 0,
 "worksheets": [
  {
   "cells": [
    {
     "cell_type": "code",
     "collapsed": false,
     "input": [
      "import pandas"
     ],
     "language": "python",
     "metadata": {},
     "outputs": [],
     "prompt_number": 1
    },
    {
     "cell_type": "code",
     "collapsed": false,
     "input": [
      "import Quandl"
     ],
     "language": "python",
     "metadata": {},
     "outputs": [
      {
       "ename": "ImportError",
       "evalue": "No module named Quandl",
       "output_type": "pyerr",
       "traceback": [
        "\u001b[1;31m---------------------------------------------------------------------------\u001b[0m\n\u001b[1;31mImportError\u001b[0m                               Traceback (most recent call last)",
        "\u001b[1;32m<ipython-input-9-f73be308e486>\u001b[0m in \u001b[0;36m<module>\u001b[1;34m()\u001b[0m\n\u001b[1;32m----> 1\u001b[1;33m \u001b[1;32mimport\u001b[0m \u001b[0mQuandl\u001b[0m\u001b[1;33m\u001b[0m\u001b[0m\n\u001b[0m",
        "\u001b[1;31mImportError\u001b[0m: No module named Quandl"
       ]
      }
     ],
     "prompt_number": 9
    },
    {
     "cell_type": "code",
     "collapsed": false,
     "input": [
      "bitstamp = Quandl.get(\"BCHARTS/BITSTAMPUSD\", trim_start=\"2011-09-13\", trim_end=\"2014-10-05\", authtoken=\"1ewvkXDW7274TAdW7MoN\")"
     ],
     "language": "python",
     "metadata": {},
     "outputs": [
      {
       "ename": "NameError",
       "evalue": "name 'Quandl' is not defined",
       "output_type": "pyerr",
       "traceback": [
        "\u001b[1;31m---------------------------------------------------------------------------\u001b[0m\n\u001b[1;31mNameError\u001b[0m                                 Traceback (most recent call last)",
        "\u001b[1;32m<ipython-input-7-c308178c8ff6>\u001b[0m in \u001b[0;36m<module>\u001b[1;34m()\u001b[0m\n\u001b[1;32m----> 1\u001b[1;33m \u001b[0mbitstamp\u001b[0m \u001b[1;33m=\u001b[0m \u001b[0mQuandl\u001b[0m\u001b[1;33m.\u001b[0m\u001b[0mget\u001b[0m\u001b[1;33m(\u001b[0m\u001b[1;34m\"BCHARTS/BITSTAMPUSD\"\u001b[0m\u001b[1;33m,\u001b[0m \u001b[0mtrim_start\u001b[0m\u001b[1;33m=\u001b[0m\u001b[1;34m\"2011-09-13\"\u001b[0m\u001b[1;33m,\u001b[0m \u001b[0mtrim_end\u001b[0m\u001b[1;33m=\u001b[0m\u001b[1;34m\"2014-10-05\"\u001b[0m\u001b[1;33m,\u001b[0m \u001b[0mauthtoken\u001b[0m\u001b[1;33m=\u001b[0m\u001b[1;34m\"1ewvkXDW7274TAdW7MoN\"\u001b[0m\u001b[1;33m)\u001b[0m\u001b[1;33m\u001b[0m\u001b[0m\n\u001b[0m",
        "\u001b[1;31mNameError\u001b[0m: name 'Quandl' is not defined"
       ]
      }
     ],
     "prompt_number": 7
    },
    {
     "cell_type": "code",
     "collapsed": false,
     "input": [],
     "language": "python",
     "metadata": {},
     "outputs": []
    }
   ],
   "metadata": {}
  }
 ]
}